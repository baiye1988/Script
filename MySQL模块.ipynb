{
 "cells": [
  {
   "cell_type": "code",
   "execution_count": 9,
   "id": "f9eb5a70",
   "metadata": {},
   "outputs": [],
   "source": [
    "#python操作Mysql数据库\n",
    "import pymysql\n",
    "#建立mysql连接\n",
    "conn = pymysql.connect(host=\"192.168.1.128\",port=3306,user='root',passwd='termux',db='test',charset='utf8mb4')\n",
    "#获取数据游标\n",
    "dbcursor = conn.cursor()\n",
    "#执行语句\n",
    "dbcursor.execute(\"select * from studio\")\n",
    "#获取一行数据\n",
    "Item_one = dbcursor.fetchone()\n",
    "#获取前3行\n",
    "Item_n = dbcursor.fetchmany(3)\n",
    "#获取全部\n",
    "Item_all = dbcursor.fetchall()\n",
    "#释放游标\n",
    "dbcursor.close()\n",
    "#提交数据更改\n",
    "conn.commit()\n",
    "#断开数据库连接\n",
    "conn.close()"
   ]
  },
  {
   "cell_type": "code",
   "execution_count": 10,
   "id": "4ed16f0c",
   "metadata": {},
   "outputs": [
    {
     "name": "stdout",
     "output_type": "stream",
     "text": [
      "(1, 'lilan', 1325558456)\n"
     ]
    }
   ],
   "source": [
    "print(Item_one)"
   ]
  },
  {
   "cell_type": "code",
   "execution_count": 11,
   "id": "354a76d8",
   "metadata": {},
   "outputs": [
    {
     "name": "stdout",
     "output_type": "stream",
     "text": [
      "((2, 'lilin', 1392678102),)\n"
     ]
    }
   ],
   "source": [
    "print(Item_n)"
   ]
  },
  {
   "cell_type": "code",
   "execution_count": 12,
   "id": "e58200f3",
   "metadata": {},
   "outputs": [
    {
     "ename": "ProgrammingError",
     "evalue": "Cursor closed",
     "output_type": "error",
     "traceback": [
      "\u001b[1;31m---------------------------------------------------------------------------\u001b[0m",
      "\u001b[1;31mProgrammingError\u001b[0m                          Traceback (most recent call last)",
      "Input \u001b[1;32mIn [12]\u001b[0m, in \u001b[0;36m<cell line: 1>\u001b[1;34m()\u001b[0m\n\u001b[1;32m----> 1\u001b[0m \u001b[43mdbcursor\u001b[49m\u001b[38;5;241;43m.\u001b[39;49m\u001b[43mexecute\u001b[49m\u001b[43m(\u001b[49m\u001b[38;5;124;43m\"\u001b[39;49m\u001b[38;5;124;43mCREATE DATABASE TU\u001b[39;49m\u001b[38;5;124;43m\"\u001b[39;49m\u001b[43m)\u001b[49m\n",
      "File \u001b[1;32mD:\\anaconda3\\lib\\site-packages\\pymysql\\cursors.py:143\u001b[0m, in \u001b[0;36mCursor.execute\u001b[1;34m(self, query, args)\u001b[0m\n\u001b[0;32m    129\u001b[0m \u001b[38;5;28;01mdef\u001b[39;00m \u001b[38;5;21mexecute\u001b[39m(\u001b[38;5;28mself\u001b[39m, query, args\u001b[38;5;241m=\u001b[39m\u001b[38;5;28;01mNone\u001b[39;00m):\n\u001b[0;32m    130\u001b[0m     \u001b[38;5;124;03m\"\"\"Execute a query\u001b[39;00m\n\u001b[0;32m    131\u001b[0m \n\u001b[0;32m    132\u001b[0m \u001b[38;5;124;03m    :param str query: Query to execute.\u001b[39;00m\n\u001b[1;32m   (...)\u001b[0m\n\u001b[0;32m    141\u001b[0m \u001b[38;5;124;03m    If args is a dict, %(name)s can be used as a placeholder in the query.\u001b[39;00m\n\u001b[0;32m    142\u001b[0m \u001b[38;5;124;03m    \"\"\"\u001b[39;00m\n\u001b[1;32m--> 143\u001b[0m     \u001b[38;5;28;01mwhile\u001b[39;00m \u001b[38;5;28;43mself\u001b[39;49m\u001b[38;5;241;43m.\u001b[39;49m\u001b[43mnextset\u001b[49m\u001b[43m(\u001b[49m\u001b[43m)\u001b[49m:\n\u001b[0;32m    144\u001b[0m         \u001b[38;5;28;01mpass\u001b[39;00m\n\u001b[0;32m    146\u001b[0m     query \u001b[38;5;241m=\u001b[39m \u001b[38;5;28mself\u001b[39m\u001b[38;5;241m.\u001b[39mmogrify(query, args)\n",
      "File \u001b[1;32mD:\\anaconda3\\lib\\site-packages\\pymysql\\cursors.py:96\u001b[0m, in \u001b[0;36mCursor.nextset\u001b[1;34m(self)\u001b[0m\n\u001b[0;32m     95\u001b[0m \u001b[38;5;28;01mdef\u001b[39;00m \u001b[38;5;21mnextset\u001b[39m(\u001b[38;5;28mself\u001b[39m):\n\u001b[1;32m---> 96\u001b[0m     \u001b[38;5;28;01mreturn\u001b[39;00m \u001b[38;5;28;43mself\u001b[39;49m\u001b[38;5;241;43m.\u001b[39;49m\u001b[43m_nextset\u001b[49m\u001b[43m(\u001b[49m\u001b[38;5;28;43;01mFalse\u001b[39;49;00m\u001b[43m)\u001b[49m\n",
      "File \u001b[1;32mD:\\anaconda3\\lib\\site-packages\\pymysql\\cursors.py:83\u001b[0m, in \u001b[0;36mCursor._nextset\u001b[1;34m(self, unbuffered)\u001b[0m\n\u001b[0;32m     81\u001b[0m \u001b[38;5;28;01mdef\u001b[39;00m \u001b[38;5;21m_nextset\u001b[39m(\u001b[38;5;28mself\u001b[39m, unbuffered\u001b[38;5;241m=\u001b[39m\u001b[38;5;28;01mFalse\u001b[39;00m):\n\u001b[0;32m     82\u001b[0m     \u001b[38;5;124;03m\"\"\"Get the next query set\"\"\"\u001b[39;00m\n\u001b[1;32m---> 83\u001b[0m     conn \u001b[38;5;241m=\u001b[39m \u001b[38;5;28;43mself\u001b[39;49m\u001b[38;5;241;43m.\u001b[39;49m\u001b[43m_get_db\u001b[49m\u001b[43m(\u001b[49m\u001b[43m)\u001b[49m\n\u001b[0;32m     84\u001b[0m     current_result \u001b[38;5;241m=\u001b[39m \u001b[38;5;28mself\u001b[39m\u001b[38;5;241m.\u001b[39m_result\n\u001b[0;32m     85\u001b[0m     \u001b[38;5;28;01mif\u001b[39;00m current_result \u001b[38;5;129;01mis\u001b[39;00m \u001b[38;5;28;01mNone\u001b[39;00m \u001b[38;5;129;01mor\u001b[39;00m current_result \u001b[38;5;129;01mis\u001b[39;00m \u001b[38;5;129;01mnot\u001b[39;00m conn\u001b[38;5;241m.\u001b[39m_result:\n",
      "File \u001b[1;32mD:\\anaconda3\\lib\\site-packages\\pymysql\\cursors.py:65\u001b[0m, in \u001b[0;36mCursor._get_db\u001b[1;34m(self)\u001b[0m\n\u001b[0;32m     63\u001b[0m \u001b[38;5;28;01mdef\u001b[39;00m \u001b[38;5;21m_get_db\u001b[39m(\u001b[38;5;28mself\u001b[39m):\n\u001b[0;32m     64\u001b[0m     \u001b[38;5;28;01mif\u001b[39;00m \u001b[38;5;129;01mnot\u001b[39;00m \u001b[38;5;28mself\u001b[39m\u001b[38;5;241m.\u001b[39mconnection:\n\u001b[1;32m---> 65\u001b[0m         \u001b[38;5;28;01mraise\u001b[39;00m err\u001b[38;5;241m.\u001b[39mProgrammingError(\u001b[38;5;124m\"\u001b[39m\u001b[38;5;124mCursor closed\u001b[39m\u001b[38;5;124m\"\u001b[39m)\n\u001b[0;32m     66\u001b[0m     \u001b[38;5;28;01mreturn\u001b[39;00m \u001b[38;5;28mself\u001b[39m\u001b[38;5;241m.\u001b[39mconnection\n",
      "\u001b[1;31mProgrammingError\u001b[0m: Cursor closed"
     ]
    }
   ],
   "source": [
    "dbcursor.execute(\"CREATE DATABASE TU\")"
   ]
  },
  {
   "cell_type": "code",
   "execution_count": null,
   "id": "f45b4caa",
   "metadata": {},
   "outputs": [],
   "source": []
  }
 ],
 "metadata": {
  "kernelspec": {
   "display_name": "Python 3 (ipykernel)",
   "language": "python",
   "name": "python3"
  },
  "language_info": {
   "codemirror_mode": {
    "name": "ipython",
    "version": 3
   },
   "file_extension": ".py",
   "mimetype": "text/x-python",
   "name": "python",
   "nbconvert_exporter": "python",
   "pygments_lexer": "ipython3",
   "version": "3.10.7"
  }
 },
 "nbformat": 4,
 "nbformat_minor": 5
}
