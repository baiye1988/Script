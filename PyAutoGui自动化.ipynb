{
 "cells": [
  {
   "cell_type": "code",
   "execution_count": 17,
   "id": "58a9f8d4",
   "metadata": {},
   "outputs": [
    {
     "name": "stdout",
     "output_type": "stream",
     "text": [
      "========屏幕分辨率为=======\n",
      "宽度：1920   高度：1080\n",
      "========鼠标所在位置=======\n",
      "坐标X：628   坐标Y：116\n"
     ]
    },
    {
     "data": {
      "text/plain": [
       "'OK'"
      ]
     },
     "execution_count": 17,
     "metadata": {},
     "output_type": "execute_result"
    }
   ],
   "source": [
    "import pyautogui as gui\n",
    "#获取当前屏幕分辨率\n",
    "print(\"========屏幕分辨率为=======\")\n",
    "x, y = gui.size()\n",
    "print(\"宽度：%d   高度：%d\" %(x,y))\n",
    "#获取当前鼠标坐标\n",
    "print(\"========鼠标所在位置=======\")\n",
    "x, y = gui.position()\n",
    "print(\"坐标X：%d   坐标Y：%d\" %(x,y))\n",
    "#移动鼠标到指定坐标\n",
    "gui.moveTo(400,800,2)\n",
    "#显示消息\n",
    "gui.alert(\"鼠标已移动至:%d,%d\" %(gui.position())) \n"
   ]
  },
  {
   "cell_type": "code",
   "execution_count": null,
   "id": "23ecb6f3",
   "metadata": {},
   "outputs": [],
   "source": []
  }
 ],
 "metadata": {
  "kernelspec": {
   "display_name": "Python 3 (ipykernel)",
   "language": "python",
   "name": "python3"
  },
  "language_info": {
   "codemirror_mode": {
    "name": "ipython",
    "version": 3
   },
   "file_extension": ".py",
   "mimetype": "text/x-python",
   "name": "python",
   "nbconvert_exporter": "python",
   "pygments_lexer": "ipython3",
   "version": "3.9.13"
  }
 },
 "nbformat": 4,
 "nbformat_minor": 5
}
