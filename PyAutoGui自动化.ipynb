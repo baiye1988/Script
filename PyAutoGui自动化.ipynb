{
 "cells": [
  {
   "cell_type": "code",
   "execution_count": 17,
   "id": "58a9f8d4",
   "metadata": {},
   "outputs": [
    {
     "name": "stdout",
     "output_type": "stream",
     "text": [
      "========屏幕分辨率为=======\n",
      "宽度：1920   高度：1080\n",
      "========鼠标所在位置=======\n",
      "坐标X：628   坐标Y：116\n"
     ]
    },
    {
     "data": {
      "text/plain": [
       "'OK'"
      ]
     },
     "execution_count": 17,
     "metadata": {},
     "output_type": "execute_result"
    }
   ],
   "source": [
    "import pyautogui as gui\n",
    "#获取当前屏幕分辨率\n",
    "print(\"========屏幕分辨率为=======\")\n",
    "x, y = gui.size()\n",
    "print(\"宽度：%d   高度：%d\" %(x,y))\n",
    "#获取当前鼠标坐标\n",
    "print(\"========鼠标所在位置=======\")\n",
    "x, y = gui.position()\n",
    "print(\"坐标X：%d   坐标Y：%d\" %(x,y))\n",
    "#移动鼠标到指定坐标\n",
    "gui.moveTo(400,800,2)\n",
    "#显示消息\n",
    "gui.alert(\"鼠标已移动至:%d,%d\" %(gui.position())) \n"
   ]
  },
  {
   "cell_type": "code",
   "execution_count": null,
   "id": "23ecb6f3",
   "metadata": {},
   "outputs": [],
   "source": [
    "import xlrd\n",
    "import pyautogui as gui\n",
    "import os\n",
    "import time\n",
    "import re\n",
    "import pyperclip as clip\n",
    "import psutil\n",
    "\n",
    "RSTCOUNT = 30\n",
    "t = time.time()\n",
    "\n",
    "def CheckPlmStart():\n",
    "    for proc in psutil.process_iter(['pid','name']):\n",
    "        if proc.info.get(\"name\") == \"CaxaVault.exe\":\n",
    "            return True\n",
    "    return False\n",
    "\n",
    "\n",
    "def GetPlmPid():\n",
    "    for proc in psutil.process_iter(['pid','name']):\n",
    "        if proc.info.get(\"name\") == \"CaxaVault.exe\":\n",
    "            return proc.info.get(\"pid\")\n",
    "\n",
    "        \n",
    "def RestartPlm():\n",
    "    Btn_W_Close = (1905, 8)#关闭窗口按钮坐标\n",
    "    Btn_W_Close_Y = (944, 578)#提示窗口确定关闭按钮\n",
    "    if CheckPlmStart():\n",
    "        gui.click(Btn_W_Close)\n",
    "        gui.click(Btn_W_Close_Y,duration=1)\n",
    "    if CheckPlmStart():\n",
    "        os.kill(GetPlmPid(),-9)\n",
    "    \n",
    "    os.system(\"start CaxaVault\")\n",
    "    time.sleep(14)#等待PLM启动\n",
    "    gui.click(x = 254, y = 272)\n",
    "    \n",
    "    \n",
    "def main():\n",
    "   wl = xlrd.open_workbook(\"input.xls\")\n",
    "   table = wl.sheet_by_index(0)\n",
    "   #os.system(\"start CaxaVault\")#启动PLM\n",
    "   RestartPlm()\n",
    "   \n",
    "   \n",
    "\n",
    "   for j in range(table.nrows):\n",
    "       #drid = re.sub(\"图号:\",\"\",table.cell_value(j,0))\n",
    "       #匹配重量\n",
    "       #drwd = re.findall(\"\\d*.\\d{3}\",table.cell_value(j,3))[0]\n",
    "       drid = table.cell_value(j,0)\n",
    "       clip.copy(table.cell_value(j,1))\n",
    "       if j % RSTCOUNT == 0 and j != 0:\n",
    "           print(\"程序已完成%d条记录修改,耗时%d秒,正在重启PLM后继续\"%(j+1,int(time.time()-t)))\n",
    "           RestartPlm()\n",
    "           \n",
    "           \n",
    "       gui.click(x = 273, y = 361)\n",
    "       if j == 0 or j % RSTCOUNT == 0 :\n",
    "           gui.hotkey(\"shift\")\n",
    "       gui.hotkey(\"ctrl\",\"a\")\n",
    "       gui.typewrite(drid)\n",
    "       gui.hotkey(\"enter\")\n",
    "       gui.PAUSE=2\n",
    "       #定位工艺属性\n",
    "       gui.click(x = 1092, y = 254, button=\"RIGHT\")\n",
    "       gui.click(x = 1159, y = 367, duration = 1.2)\n",
    "       gui.PAUSE=2\n",
    "       #点击编辑属性\n",
    "       #gui.click(x = 562, y = 187)\n",
    "       #gui.PAUSE=1.5\n",
    "       #输入重量\n",
    "       #gui.click(x = 645, y = 427)\n",
    "       #输入材料\n",
    "       gui.click(x = 651, y = 475)\n",
    "       gui.hotkey(\"ctrl\",\"a\")\n",
    "       gui.hotkey(\"ctrl\",\"v\")\n",
    "       #gui.typewrite(drwd)\n",
    "       #gui.hotkey(\"enter\")      \n",
    "       #点击保存\n",
    "       gui.click(x = 364, y = 190)      \n",
    "       #关闭窗口\n",
    "       gui.click(399, 90)\n",
    "       gui.PAUSE=2.5\n",
    "   gui.alert(\"程序执行完毕\")\n",
    "    \n",
    "\n",
    "\n",
    "if __name__ == \"__main__\":\n",
    "    main()\n"
   ]
  }
 ],
 "metadata": {
  "kernelspec": {
   "display_name": "Python 3 (ipykernel)",
   "language": "python",
   "name": "python3"
  },
  "language_info": {
   "codemirror_mode": {
    "name": "ipython",
    "version": 3
   },
   "file_extension": ".py",
   "mimetype": "text/x-python",
   "name": "python",
   "nbconvert_exporter": "python",
   "pygments_lexer": "ipython3",
   "version": "3.10.7"
  }
 },
 "nbformat": 4,
 "nbformat_minor": 5
}
