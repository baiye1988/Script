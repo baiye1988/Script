{
 "cells": [
  {
   "cell_type": "code",
   "execution_count": null,
   "id": "8e3b9c28",
   "metadata": {},
   "outputs": [
    {
     "name": "stdout",
     "output_type": "stream",
     "text": [
      "0\n",
      "Temp b'99'\n",
      "Temp b'50'\n",
      "Temp b'68'\n",
      "Temp b'99'\n"
     ]
    }
   ],
   "source": [
    "from paho.mqtt import client\n",
    "from redis import *\n",
    "import threading\n",
    "import uuid\n",
    "\n",
    "cID = str(uuid.uuid4())\n",
    "\n",
    "\n",
    "def sd_connect(client, userdata, flags, rc):\n",
    "    print(str(rc))\n",
    "    client.subscribe(\"Temp\")\n",
    "\n",
    "def sd_message(client, userdata, msg):\n",
    "    print(msg.topic+\" \"+str(msg.payload))\n",
    "\n",
    "\n",
    "\n",
    "mqtt = client.Client(cID)\n",
    "mqtt.on_connect = sd_connect\n",
    "mqtt.on_message = sd_message\n",
    "mqtt.username_pw_set(\"Admin\", \"66666666\")\n",
    "mqtt.connect(\"192.168.1.128\", 1883)\n",
    "mqtt.loop_forever()"
   ]
  },
  {
   "cell_type": "code",
   "execution_count": 2,
   "id": "54c0190b",
   "metadata": {},
   "outputs": [
    {
     "data": {
      "text/plain": [
       "['__class__',\n",
       " '__delattr__',\n",
       " '__dir__',\n",
       " '__doc__',\n",
       " '__enter__',\n",
       " '__eq__',\n",
       " '__exit__',\n",
       " '__format__',\n",
       " '__ge__',\n",
       " '__getattribute__',\n",
       " '__gt__',\n",
       " '__hash__',\n",
       " '__init__',\n",
       " '__init_subclass__',\n",
       " '__le__',\n",
       " '__lt__',\n",
       " '__module__',\n",
       " '__ne__',\n",
       " '__new__',\n",
       " '__reduce__',\n",
       " '__reduce_ex__',\n",
       " '__repr__',\n",
       " '__setattr__',\n",
       " '__sizeof__',\n",
       " '__str__',\n",
       " '__subclasshook__',\n",
       " '_at_fork_reinit',\n",
       " 'acquire',\n",
       " 'acquire_lock',\n",
       " 'locked',\n",
       " 'locked_lock',\n",
       " 'release',\n",
       " 'release_lock']"
      ]
     },
     "execution_count": 2,
     "metadata": {},
     "output_type": "execute_result"
    }
   ],
   "source": [
    "import threading\n",
    "\n",
    "mutex = threading.Lock()\n",
    "dir(mutex)\n"
   ]
  },
  {
   "cell_type": "code",
   "execution_count": null,
   "id": "5b7eb8ea",
   "metadata": {},
   "outputs": [],
   "source": []
  }
 ],
 "metadata": {
  "kernelspec": {
   "display_name": "Python 3 (ipykernel)",
   "language": "python",
   "name": "python3"
  },
  "language_info": {
   "codemirror_mode": {
    "name": "ipython",
    "version": 3
   },
   "file_extension": ".py",
   "mimetype": "text/x-python",
   "name": "python",
   "nbconvert_exporter": "python",
   "pygments_lexer": "ipython3",
   "version": "3.10.7"
  }
 },
 "nbformat": 4,
 "nbformat_minor": 5
}
