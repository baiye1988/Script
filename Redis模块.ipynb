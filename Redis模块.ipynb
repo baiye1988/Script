{
 "cells": [
  {
   "cell_type": "code",
   "execution_count": 7,
   "id": "aa820b73",
   "metadata": {},
   "outputs": [
    {
     "data": {
      "text/plain": [
       "[b'online', b'Temp']"
      ]
     },
     "execution_count": 7,
     "metadata": {},
     "output_type": "execute_result"
    }
   ],
   "source": [
    "#python操作Redis数据库\n",
    "from redis import *\n",
    "rdb = StrictRedis(host=\"192.168.1.128\",db=1)#建立连接并使用1号数据库\n",
    "#rdb.flushall()#清空所有数据库，包括其他编号也会清空\n",
    "#列出所有键\n",
    "rdb.keys(\"*\")\n"
   ]
  },
  {
   "cell_type": "code",
   "execution_count": 4,
   "id": "a857863c",
   "metadata": {},
   "outputs": [
    {
     "name": "stdout",
     "output_type": "stream",
     "text": [
      "['20', '20', '30', '45', '50', '60', '80', '15', '25', '30', '45', '50', '60', '80', '15', '25', '30', '45', '50', '60', '80', '15', '25', '30', '45', '50', '60', '80', '90', '100']\n"
     ]
    }
   ],
   "source": [
    "from redis import *\n",
    "#redis 取出的结果默认是字节，我们可以设定 decode_responses=True 改成字符串\n",
    "rdb = StrictRedis(host=\"192.168.1.128\",db=1,decode_responses=True)\n",
    "rdb.rpush(\"Temp\",90,100)\n",
    "result = rdb.lrange(\"Temp\",0,-1)\n",
    "print(result)"
   ]
  },
  {
   "cell_type": "code",
   "execution_count": 5,
   "id": "a696b3dc",
   "metadata": {},
   "outputs": [
    {
     "data": {
      "text/plain": [
       "['80',\n",
       " '15',\n",
       " '25',\n",
       " '30',\n",
       " '45',\n",
       " '50',\n",
       " '60',\n",
       " '80',\n",
       " '15',\n",
       " '25',\n",
       " '30',\n",
       " '45',\n",
       " '50',\n",
       " '60',\n",
       " '80',\n",
       " '15',\n",
       " '25',\n",
       " '30',\n",
       " '45',\n",
       " '50',\n",
       " '60',\n",
       " '80',\n",
       " '90',\n",
       " '100']"
      ]
     },
     "execution_count": 5,
     "metadata": {},
     "output_type": "execute_result"
    }
   ],
   "source": [
    "rdb.lrange(\"Temp\",-24,-1)"
   ]
  },
  {
   "cell_type": "code",
   "execution_count": null,
   "id": "f6790c6f",
   "metadata": {},
   "outputs": [],
   "source": []
  }
 ],
 "metadata": {
  "kernelspec": {
   "display_name": "Python 3 (ipykernel)",
   "language": "python",
   "name": "python3"
  },
  "language_info": {
   "codemirror_mode": {
    "name": "ipython",
    "version": 3
   },
   "file_extension": ".py",
   "mimetype": "text/x-python",
   "name": "python",
   "nbconvert_exporter": "python",
   "pygments_lexer": "ipython3",
   "version": "3.10.7"
  }
 },
 "nbformat": 4,
 "nbformat_minor": 5
}
