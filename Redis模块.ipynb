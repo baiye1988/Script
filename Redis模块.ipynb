{
 "cells": [
  {
   "cell_type": "code",
   "execution_count": 1,
   "id": "aa820b73",
   "metadata": {},
   "outputs": [
    {
     "data": {
      "text/plain": [
       "[]"
      ]
     },
     "execution_count": 1,
     "metadata": {},
     "output_type": "execute_result"
    }
   ],
   "source": [
    "#python操作Redis数据库\n",
    "from redis import *\n",
    "rdb = StrictRedis(host=\"192.168.1.128\",db=1)#建立连接并使用1号数据库\n",
    "#rdb.flushall()#清空所有数据库，包括其他编号也会清空\n",
    "#列出所有键\n",
    "rdb.keys(\"*\")\n"
   ]
  },
  {
   "cell_type": "code",
   "execution_count": null,
   "id": "a857863c",
   "metadata": {},
   "outputs": [],
   "source": []
  }
 ],
 "metadata": {
  "kernelspec": {
   "display_name": "Python 3 (ipykernel)",
   "language": "python",
   "name": "python3"
  },
  "language_info": {
   "codemirror_mode": {
    "name": "ipython",
    "version": 3
   },
   "file_extension": ".py",
   "mimetype": "text/x-python",
   "name": "python",
   "nbconvert_exporter": "python",
   "pygments_lexer": "ipython3",
   "version": "3.9.13"
  }
 },
 "nbformat": 4,
 "nbformat_minor": 5
}
