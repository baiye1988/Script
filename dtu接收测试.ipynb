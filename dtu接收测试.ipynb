{
 "cells": [
  {
   "cell_type": "code",
   "execution_count": null,
   "id": "80d62265",
   "metadata": {},
   "outputs": [],
   "source": [
    "from socket import *\n",
    "from redis import *\n",
    "\n",
    "\n",
    "rdb = StrictRedis(host=\"192.168.1.128\",db=1)\n",
    "dtu_server = socket(AF_INET, SOCK_STREAM)\n",
    "dtu_server.setsockopt(SOL_SOCKET,SO_REUSEADDR,1)\n",
    "dtu_server.bind((\"\",8899))\n",
    "dtu_server.listen(5)\n",
    "print(\"服务器已启动，正在等待消息\")\n",
    "\n",
    "while True:\n",
    "    clientsocket,clientinfo = dtu_server.accept()\n",
    "    revdata = clientsocket.recv(1024)\n",
    "    if revdata.decode(\"utf8\") == \"exit\":\n",
    "        clientsocket.close()\n",
    "        break\n",
    "        \n",
    "    print(\"%s:%s\"%(str(clientinfo),revdata.decode(\"utf8\")))\n",
    "    rdb.set(str(clientinfo),revdata.decode(\"utf8\"))\n",
    "    \n",
    "    \n",
    "clientsocket.close()\n",
    "dtu_server.close()\n",
    "print(\"服务器关闭\")\n",
    "print(\"数据库已存入数据如下:\")\n",
    "rdb.keys(\"*\")"
   ]
  },
  {
   "cell_type": "code",
   "execution_count": null,
   "id": "7e48a6fc",
   "metadata": {},
   "outputs": [],
   "source": []
  }
 ],
 "metadata": {
  "kernelspec": {
   "display_name": "Python 3 (ipykernel)",
   "language": "python",
   "name": "python3"
  },
  "language_info": {
   "codemirror_mode": {
    "name": "ipython",
    "version": 3
   },
   "file_extension": ".py",
   "mimetype": "text/x-python",
   "name": "python",
   "nbconvert_exporter": "python",
   "pygments_lexer": "ipython3",
   "version": "3.9.13"
  }
 },
 "nbformat": 4,
 "nbformat_minor": 5
}
